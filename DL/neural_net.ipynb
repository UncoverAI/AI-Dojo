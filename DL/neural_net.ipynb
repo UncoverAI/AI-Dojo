{
 "cells": [
  {
   "cell_type": "code",
   "execution_count": 34,
   "id": "f2352f04",
   "metadata": {},
   "outputs": [],
   "source": [
    "import numpy as np\n",
    "import matplotlib.pyplot as plt"
   ]
  },
  {
   "cell_type": "markdown",
   "id": "c23fc7ee",
   "metadata": {},
   "source": [
    "# NN Dev"
   ]
  },
  {
   "cell_type": "code",
   "execution_count": 35,
   "id": "8c48c69e-ecc6-4c93-a577-1fe2c1df34fb",
   "metadata": {},
   "outputs": [],
   "source": [
    "class NeuralNetwork:\n",
    "    def __init__(self, input_size, l1_size, l2_size, output_size, init=(-1., 1.), learning_rate=0.01, dtype = np.float64):\n",
    "        self.input_size = input_size\n",
    "        self.l1_size = l1_size\n",
    "        self.l2_size = l2_size\n",
    "        self.output_size = output_size\n",
    "        \n",
    "        self.W1 = np.random.uniform(low=init[0], high=init[1], size=(self.input_size, self.l1_size)).astype(dtype)\n",
    "        # self.W1 = np.ones(shape=(self.input_size, self.l1_size), dtype=dtype)\n",
    "        self.W2 = np.random.uniform(low=init[0], high=init[1], size=(self.l1_size, self.l2_size)).astype(dtype)\n",
    "        # self.W2 = np.ones(shape=(self.l1_size, self.l2_size), dtype=dtype) \n",
    "        self.W3 = np.random.uniform(low=init[0], high=init[1], size=(self.l2_size, self.output_size)).astype(dtype) \n",
    "        # self.W3 np.ones(shape=(self.l2_size, self.output_size), dtype=dtype)\n",
    "\n",
    "        self.alpha = learning_rate\n",
    "        \n",
    "    \n",
    "    def forward(self, x_):\n",
    "        # Layer 1\n",
    "        self.x_ = x_\n",
    "        self.l1_ = self.x_ @ self.W1\n",
    "        self.a1_ = sigmoid(self.l1_)\n",
    "        #self.g1 = d_sigmoid(self.l1_)\n",
    "        # Layer 2\n",
    "        self.l2_ = self.a1_ @ self.W2\n",
    "        self.a2_ = sigmoid(self.l2_)\n",
    "        #self.g2 = d_sigmoid(self.l2_)\n",
    "        # Layer 3\n",
    "        self.o_ = self.a2_ @ self.W3\n",
    "        self.s_ = softmax(self.o_)\n",
    "        #self.g3 = d_softmax(self.o_)\n",
    "\n",
    "        return self.s_\n",
    "    \n",
    "    def backward(self, y_, output_):\n",
    "        tmp = d_mse(output_, y_) @ d_softmax(self.o_)\n",
    "        self.dW3 = self.a2_.reshape(self.l2_size, 1) @ tmp\n",
    "        tmp2 = d_sigmoid(self.l2_).reshape(self.l2_size, 1) @ (tmp @ self.W3.transpose())\n",
    "        self.dW2 = tmp2 * self.a1_.reshape(self.l1_size, 1)\n",
    "        self.dW1 = (self.x_.reshape(self.input_size, 1) @ d_sigmoid(self.l1_).reshape(self.l1_size, 1).transpose()) @ (tmp2 @ self.W2.transpose())\n",
    "\n",
    "        self.W3 = self.W3 - self.alpha * self.dW3\n",
    "        self.W2 = self.W2 - self.alpha * self.dW2 \n",
    "        self.W1 = self.W1 - self.alpha * self.dW1\n",
    "    \n",
    "    def train(self, X, Y):\n",
    "        self.outputs = []\n",
    "        self.losses = []\n",
    "        for i in range(X.shape[0]):\n",
    "            output = self.forward(X[i]).reshape((1, self.output_size))\n",
    "            if len(self.outputs) == 0:\n",
    "                self.outputs = output\n",
    "            else:\n",
    "                np.append(self.outputs, output, axis=0)\n",
    "            actual = Y[i].reshape((1, self.output_size))\n",
    "            self.losses.append(mse(output, actual))\n",
    "            self.backward(actual, output)\n",
    "        return self.losses\n",
    "\n",
    "def el_sig(x):\n",
    "    return 1 / (1 + np.exp(-x))\n",
    "\n",
    "def sigmoid(x_):\n",
    "    l = [el_sig(xi) if xi > -200 else 0.0 for xi in x_]\n",
    "    return np.array(l)\n",
    "\n",
    "def d_sigmoid(x_):\n",
    "    return sigmoid(x_)*(1 - sigmoid(x_))\n",
    "\n",
    "def softmax(x_):\n",
    "    return np.exp(x_) / np.sum(np.exp(x_))\n",
    "\n",
    "def d_softmax(x_):\n",
    "    Ds = np.zeros(shape=(len(x_), len(x_)))\n",
    "    for i in range(len(x_)):\n",
    "        for j in range(len(x_)):\n",
    "            if i == j:\n",
    "                Ds[i][j] = softmax(x_)[i] * (1 - softmax(x_)[j])\n",
    "            else:\n",
    "                Ds[i][j] = -softmax(x_)[i] * softmax(x_)[j]\n",
    "    return Ds\n",
    "\n",
    "def mse(O, Y):\n",
    "    N = O.shape[0]\n",
    "    mse_ = np.zeros(shape=(1, O.shape[1]), dtype=np.float64)\n",
    "    for i in range(N):\n",
    "        mse_ += (O[i] - Y[i])**2\n",
    "    mse_ = (1 / N) * mse_\n",
    "    return mse_\n",
    "\n",
    "def d_mse(O, Y):\n",
    "    N = O.shape[0]\n",
    "    d_mse_ = np.zeros(shape=(1, O.shape[1]), dtype=np.float64)\n",
    "    for i in range(N):\n",
    "        d_mse_ += (O[i] - Y[i])\n",
    "    d_mse_ = (2 / N) * d_mse_\n",
    "    return d_mse_\n"
   ]
  },
  {
   "cell_type": "markdown",
   "id": "cf8637b4",
   "metadata": {},
   "source": [
    "## NN Testing"
   ]
  },
  {
   "cell_type": "markdown",
   "id": "877b3cac",
   "metadata": {},
   "source": [
    "### NN init test"
   ]
  },
  {
   "cell_type": "code",
   "execution_count": 36,
   "id": "dee0953d",
   "metadata": {},
   "outputs": [
    {
     "name": "stdout",
     "output_type": "stream",
     "text": [
      "(3, 4)\n",
      "(4, 4)\n",
      "(4, 2)\n"
     ]
    }
   ],
   "source": [
    "nn = NeuralNetwork(3, 4, 4, 2, (0, 1))\n",
    "print(nn.W1.shape)\n",
    "print(nn.W2.shape)\n",
    "print(nn.W3.shape)"
   ]
  },
  {
   "cell_type": "markdown",
   "id": "72d23e12",
   "metadata": {},
   "source": [
    "### Sigmoid overflow & derivative"
   ]
  },
  {
   "cell_type": "code",
   "execution_count": 37,
   "id": "4ad22b65",
   "metadata": {},
   "outputs": [
    {
     "data": {
      "text/plain": [
       "array([0.5       , 0.73105858, 0.26894142, 1.        , 0.        ])"
      ]
     },
     "execution_count": 37,
     "metadata": {},
     "output_type": "execute_result"
    }
   ],
   "source": [
    "sig_test = np.array([0, 1, -1, 1000, -1000])\n",
    "sigmoid(sig_test)"
   ]
  },
  {
   "cell_type": "code",
   "execution_count": 38,
   "id": "b7641570",
   "metadata": {},
   "outputs": [
    {
     "name": "stdout",
     "output_type": "stream",
     "text": [
      "[0.]\n",
      "[3.76182078e-87]\n"
     ]
    }
   ],
   "source": [
    "print(sigmoid([-200.0]))\n",
    "print(sigmoid([-199.0]))"
   ]
  },
  {
   "cell_type": "code",
   "execution_count": 39,
   "id": "e2ec9cae",
   "metadata": {},
   "outputs": [
    {
     "data": {
      "image/png": "[encoded data removed]",
      "text/plain": [
       "<Figure size 640x480 with 1 Axes>"
      ]
     },
     "metadata": {},
     "output_type": "display_data"
    }
   ],
   "source": [
    "plt.plot([i for i in range(-10,10)], [sigmoid([i]) for i in range(-10,10)])\n",
    "plt.plot([i for i in range(-10,10)], [d_sigmoid([i]) for i in range(-10,10)])\n",
    "plt.show()"
   ]
  },
  {
   "cell_type": "code",
   "execution_count": 40,
   "id": "2684bc4c",
   "metadata": {},
   "outputs": [
    {
     "data": {
      "text/plain": [
       "array([0.25      , 0.19661193, 0.19661193, 0.        , 0.        ])"
      ]
     },
     "execution_count": 40,
     "metadata": {},
     "output_type": "execute_result"
    }
   ],
   "source": [
    "d_sigmoid(sig_test)"
   ]
  },
  {
   "cell_type": "markdown",
   "id": "4242978f",
   "metadata": {},
   "source": [
    "### Forward pass"
   ]
  },
  {
   "cell_type": "code",
   "execution_count": 41,
   "id": "1d64baec",
   "metadata": {},
   "outputs": [
    {
     "name": "stdout",
     "output_type": "stream",
     "text": [
      "(1, 3)\n",
      "[[1 2 3]]\n"
     ]
    },
    {
     "data": {
      "text/plain": [
       "array([0.59502526, 0.40497474])"
      ]
     },
     "execution_count": 41,
     "metadata": {},
     "output_type": "execute_result"
    }
   ],
   "source": [
    "a = np.array([1, 2, 3]).reshape(1, 3)\n",
    "print(a.shape)\n",
    "print(a)\n",
    "nn.forward(a[0])"
   ]
  },
  {
   "cell_type": "markdown",
   "id": "85c501f7",
   "metadata": {},
   "source": [
    "### Softmax derivative"
   ]
  },
  {
   "cell_type": "code",
   "execution_count": 42,
   "id": "c9637f88",
   "metadata": {},
   "outputs": [
    {
     "name": "stdout",
     "output_type": "stream",
     "text": [
      "[1 2 3]\n",
      "[0.09003057 0.24472847 0.66524096]\n",
      "[[ 0.08192507 -0.02203304 -0.05989202]\n",
      " [-0.02203304  0.18483645 -0.1628034 ]\n",
      " [-0.05989202 -0.1628034   0.22269543]]\n"
     ]
    }
   ],
   "source": [
    "t = np.array([1, 2, 3])\n",
    "print(t)\n",
    "print(softmax(t))\n",
    "print(d_softmax(t))"
   ]
  },
  {
   "cell_type": "markdown",
   "id": "a09f6fd3",
   "metadata": {},
   "source": [
    "### MSE derivative"
   ]
  },
  {
   "cell_type": "code",
   "execution_count": 43,
   "id": "cff90c0b",
   "metadata": {},
   "outputs": [
    {
     "name": "stdout",
     "output_type": "stream",
     "text": [
      "[[0 1 0]\n",
      " [0 0 1]]\n",
      "(2, 3)\n",
      "[[0.09003057 0.24472847 0.66524096]\n",
      " [0.24472847 0.66524096 0.09003057]]\n",
      "(2, 3)\n",
      "[[0.03399876 0.50649031 0.63529494]]\n",
      "[[-0.33475904  0.09003057  0.24472847]]\n"
     ]
    }
   ],
   "source": [
    "T = np.array([[0, 1, 0], [0, 0, 1]])\n",
    "print(T)\n",
    "print(T.shape)\n",
    "A = np.array([softmax([0, 1, 2]), softmax([1, 2, 0])])\n",
    "print(A)\n",
    "print(A.shape)\n",
    "print(mse(T, A))\n",
    "print(d_mse(T, A))"
   ]
  },
  {
   "cell_type": "markdown",
   "id": "2cbe7d08",
   "metadata": {},
   "source": [
    "### Backward pass, loss, weight update"
   ]
  },
  {
   "cell_type": "code",
   "execution_count": 44,
   "id": "2107f59e",
   "metadata": {},
   "outputs": [
    {
     "name": "stdout",
     "output_type": "stream",
     "text": [
      "Output :(1, 3)\n",
      "d MSE :(1, 3)\n",
      "d Softmax :(3, 3)\n",
      "Activation2 :(5, 1)\n",
      "W3 :(5, 3)\n",
      "W3 update :(5, 3)\n",
      "--------------------------------------------------------------------------------------------------\n",
      "d Sigmoid2 :(5, 1)\n",
      "Activation1 :(5, 1)\n",
      "W2 :(5, 5)\n",
      "W2 update:(5, 5)\n",
      "--------------------------------------------------------------------------------------------------\n",
      "d Sigmoid1 :(5, 1)\n",
      "X :(4, 1)\n",
      "W1 :(4, 5)\n",
      "W1 update:(4, 5)\n"
     ]
    }
   ],
   "source": [
    "hidden_dim = 5\n",
    "X = np.array([[0, 0, 0, 1]])\n",
    "Y= np.array([[0, 1, 0]])\n",
    "nn = NeuralNetwork(X.shape[1], hidden_dim, hidden_dim, Y.shape[1], (-0.3,0.3), 0.02, np.float64)\n",
    "\n",
    "output_ = nn.forward(X[0]).reshape((1, nn.output_size))\n",
    "y_ = Y[0].reshape((1, nn.output_size))\n",
    "print(f\"Output :{output_.shape}\")\n",
    "print(f\"d MSE :{d_mse(output_, y_).shape}\")\n",
    "print(f\"d Softmax :{d_softmax(nn.o_).shape}\")\n",
    "print(f\"Activation2 :{nn.a2_.reshape(nn.l2_size, 1).shape}\")\n",
    "print(f\"W3 :{nn.W3.shape}\")\n",
    "tmp = d_mse(output_, y_) @ d_softmax(nn.o_)\n",
    "nn.dW3 = nn.a2_.reshape(nn.l2_size, 1) @ tmp\n",
    "print(f\"W3 update :{nn.dW3.shape}\")\n",
    "print(\"--------------------------------------------------------------------------------------------------\")\n",
    "print(f\"d Sigmoid2 :{d_sigmoid(nn.l2_).reshape(nn.l1_size, 1).shape}\")\n",
    "print(f\"Activation1 :{nn.a1_.reshape(nn.l1_size, 1).shape}\")\n",
    "print(f\"W2 :{nn.W2.shape}\")\n",
    "# TODO fix this update\n",
    "tmp2 = d_sigmoid(nn.l2_).reshape(nn.l2_size, 1) @ (tmp @ nn.W3.transpose())\n",
    "nn.dW2 = tmp2 * nn.a1_.reshape(nn.l2_size, 1)\n",
    "print(f\"W2 update:{nn.dW2.shape}\")\n",
    "print(\"--------------------------------------------------------------------------------------------------\")\n",
    "print(f\"d Sigmoid1 :{d_sigmoid(nn.l1_).reshape(nn.l1_size, 1).shape}\")\n",
    "print(f\"X :{X[0].reshape(nn.input_size, 1).shape}\")\n",
    "print(f\"W1 :{nn.W1.shape}\")\n",
    "# TODO fix this update\n",
    "nn.dW1 = (nn.x_.reshape(nn.input_size, 1) @ d_sigmoid(nn.l1_).reshape(nn.l1_size, 1).transpose()) @ (tmp2 @ nn.W2.transpose())\n",
    "print(f\"W1 update:{nn.dW1.shape}\")"
   ]
  },
  {
   "cell_type": "code",
   "execution_count": 45,
   "id": "8752c66d",
   "metadata": {},
   "outputs": [],
   "source": [
    "hidden_dim = 5\n",
    "X = np.array([[0, 0, 0, 1]])\n",
    "Y= np.array([[0, 1, 0]])\n",
    "nn = NeuralNetwork(X.shape[1], hidden_dim, hidden_dim, Y.shape[1], (-0.3,0.3), 0.02, np.float64)\n",
    "\n",
    "from IPython.display import clear_output\n",
    "\n",
    "def do_iteration(i):\n",
    "    clear_output()\n",
    "    print(f\"Iteration: {i}\")\n",
    "    out = nn.forward(X[0]).reshape((1, nn.output_size))\n",
    "    print(\"Prediction\")\n",
    "    print(f\"Net output: {out}  --> {np.argmax(out)}\")\n",
    "    act =  Y[0].reshape(1,3)\n",
    "    print(\"Expected value\")\n",
    "    print(f\"One Hot: {act}  --> {np.argmax(act)}\")\n",
    "    loss = np.sum(mse(out,act))\n",
    "    print(f\"Loss: {loss}\")\n",
    "    nn.backward(act, out)\n",
    "    return loss"
   ]
  },
  {
   "cell_type": "markdown",
   "id": "2c7ff3e1",
   "metadata": {},
   "source": [
    "#### Manually Click an watch loss go down"
   ]
  },
  {
   "cell_type": "code",
   "execution_count": 46,
   "id": "ccbe5f26",
   "metadata": {},
   "outputs": [
    {
     "name": "stdout",
     "output_type": "stream",
     "text": [
      "Iteration: 0\n",
      "Prediction\n",
      "Net output: [[0.30538433 0.34806684 0.34654883]]  --> 1\n",
      "Expected value\n",
      "One Hot: [[0 1 0]]  --> 1\n",
      "Loss: 0.6383725213006677\n"
     ]
    }
   ],
   "source": [
    "i = 0\n",
    "do_iteration(i)\n",
    "i += 1"
   ]
  },
  {
   "cell_type": "markdown",
   "id": "fbf07f39",
   "metadata": {},
   "source": [
    "#### Plot loss over many iterations"
   ]
  },
  {
   "cell_type": "code",
   "execution_count": 47,
   "id": "c5b2f4d8",
   "metadata": {},
   "outputs": [
    {
     "name": "stdout",
     "output_type": "stream",
     "text": [
      "Iteration: 999\n",
      "Prediction\n",
      "Net output: [[0.03062681 0.93778484 0.03158835]]  --> 1\n",
      "Expected value\n",
      "One Hot: [[0 1 0]]  --> 1\n",
      "Loss: 0.005806550609581823\n"
     ]
    },
    {
     "data": {
      "image/png": "[encoded data removed]",
      "text/plain": [
       "<Figure size 640x480 with 1 Axes>"
      ]
     },
     "metadata": {},
     "output_type": "display_data"
    }
   ],
   "source": [
    "iterations = []\n",
    "losses = []\n",
    "for i in range(1000):\n",
    "    iterations.append(i)\n",
    "    losses.append(do_iteration(i))\n",
    "\n",
    "plt.plot(iterations, losses)\n",
    "plt.show()"
   ]
  },
  {
   "cell_type": "markdown",
   "id": "d011343e",
   "metadata": {},
   "source": [
    "### Training"
   ]
  },
  {
   "cell_type": "code",
   "execution_count": 48,
   "id": "3e51f87f",
   "metadata": {},
   "outputs": [
    {
     "data": {
      "image/png": "[encoded data removed]",
      "text/plain": [
       "<Figure size 640x480 with 1 Axes>"
      ]
     },
     "metadata": {},
     "output_type": "display_data"
    }
   ],
   "source": [
    "hidden_dim = 5\n",
    "X = np.array([[0, 0, 0, 1] for _ in range(1000)])\n",
    "Y= np.array([[0, 1, 0] for _ in range(1000)])\n",
    "nn = NeuralNetwork(X.shape[1], hidden_dim, hidden_dim, Y.shape[1], (-0.3,0.3), 0.02, np.float64)\n",
    "losses = nn.train(X, Y)\n",
    "plt.plot([i for i in range(1000)], [np.sum(l) for l in losses])\n",
    "plt.show()"
   ]
  },
  {
   "cell_type": "markdown",
   "id": "f67fb5d7",
   "metadata": {},
   "source": [
    "# MNIST"
   ]
  },
  {
   "cell_type": "markdown",
   "id": "4dbdf96f",
   "metadata": {},
   "source": [
    "### Data Prep"
   ]
  },
  {
   "cell_type": "code",
   "execution_count": 49,
   "id": "81d2bf20",
   "metadata": {},
   "outputs": [
    {
     "data": {
      "text/plain": [
       "array([[1, 0, 0, ..., 0, 0, 0],\n",
       "       [0, 0, 0, ..., 0, 0, 0],\n",
       "       [1, 0, 0, ..., 0, 0, 0],\n",
       "       ...,\n",
       "       [7, 0, 0, ..., 0, 0, 0],\n",
       "       [6, 0, 0, ..., 0, 0, 0],\n",
       "       [9, 0, 0, ..., 0, 0, 0]])"
      ]
     },
     "execution_count": 49,
     "metadata": {},
     "output_type": "execute_result"
    }
   ],
   "source": [
    "with open(\"./data/train.csv\") as f:\n",
    "    data = f.readlines()\n",
    "data = data[1:]\n",
    "data = np.array([[int(x) for x in line.split(\",\")] for line in data])\n",
    "data"
   ]
  },
  {
   "cell_type": "code",
   "execution_count": 50,
   "id": "218a5f01",
   "metadata": {},
   "outputs": [],
   "source": [
    "def plot_image(image):\n",
    "    c = 0\n",
    "    for pixel in image:\n",
    "        if pixel > 0:\n",
    "            print(\"@\", end=\"\")\n",
    "        else:\n",
    "            print(\".\", end=\"\")\n",
    "        print(\"   \", end=\"\")\n",
    "        c += 1\n",
    "        if c == 28:\n",
    "            print(\"\\n\")\n",
    "            c = 0"
   ]
  },
  {
   "cell_type": "code",
   "execution_count": 51,
   "id": "80dff9b7",
   "metadata": {},
   "outputs": [
    {
     "name": "stdout",
     "output_type": "stream",
     "text": [
      ".   .   .   .   .   .   .   .   .   .   .   .   .   .   .   .   .   .   .   .   .   .   .   .   .   .   .   .   \n",
      "\n",
      ".   .   .   .   .   .   .   .   .   .   .   .   .   .   .   .   .   .   .   .   .   .   .   .   .   .   .   .   \n",
      "\n",
      ".   .   .   .   .   .   .   .   .   .   .   .   .   .   .   .   .   .   .   .   .   .   .   .   .   .   .   .   \n",
      "\n",
      ".   .   .   .   .   .   .   .   .   .   .   .   .   .   .   .   .   .   .   .   .   .   .   .   .   .   .   .   \n",
      "\n",
      ".   .   .   .   .   .   .   .   .   .   .   .   .   .   .   .   .   .   .   .   @   @   @   .   .   .   .   .   \n",
      "\n",
      ".   .   .   .   .   .   .   .   .   .   .   .   .   .   .   .   .   .   .   @   @   @   @   .   .   .   .   .   \n",
      "\n",
      ".   .   .   .   .   .   .   .   .   .   .   .   .   .   .   .   .   .   @   @   @   @   @   .   .   .   .   .   \n",
      "\n",
      ".   .   .   .   .   .   .   .   .   .   .   .   .   .   .   .   .   @   @   @   @   @   .   .   .   .   .   .   \n",
      "\n",
      ".   .   .   .   .   .   .   .   .   .   .   .   .   .   .   .   @   @   @   @   @   .   .   .   .   .   .   .   \n",
      "\n",
      ".   .   .   .   .   .   .   .   .   .   .   .   .   .   .   @   @   @   @   @   .   .   .   .   .   .   .   .   \n",
      "\n",
      ".   .   .   .   .   .   .   .   .   .   .   .   .   .   @   @   @   @   @   @   .   .   .   .   .   .   .   .   \n",
      "\n",
      ".   .   .   .   .   .   .   .   .   .   .   .   .   @   @   @   @   @   .   .   .   .   .   .   .   .   .   .   \n",
      "\n",
      ".   .   .   .   .   .   .   .   .   .   .   .   @   @   @   @   @   @   .   .   .   .   .   .   .   .   .   .   \n",
      "\n",
      ".   .   .   .   .   .   .   .   .   .   .   .   @   @   @   @   @   .   .   .   .   .   .   .   .   .   .   .   \n",
      "\n",
      ".   .   .   .   .   .   .   .   .   .   .   @   @   @   @   @   @   .   .   .   .   .   .   .   .   .   .   .   \n",
      "\n",
      ".   .   .   .   .   .   .   .   .   .   .   @   @   @   @   @   .   .   .   .   .   .   .   .   .   .   .   .   \n",
      "\n",
      ".   .   .   .   .   .   .   .   .   .   @   @   @   @   @   .   .   .   .   .   .   .   .   .   .   .   .   .   \n",
      "\n",
      ".   .   .   .   .   .   .   .   .   @   @   @   @   @   .   .   .   .   .   .   .   .   .   .   .   .   .   .   \n",
      "\n",
      ".   .   .   .   .   .   .   .   .   @   @   @   @   .   .   .   .   .   .   .   .   .   .   .   .   .   .   .   \n",
      "\n",
      ".   .   .   .   .   .   .   .   @   @   @   @   @   .   .   .   .   .   .   .   .   .   .   .   .   .   .   .   \n",
      "\n",
      ".   .   .   .   .   .   .   @   @   @   @   @   .   .   .   .   .   .   .   .   .   .   .   .   .   .   .   .   \n",
      "\n",
      ".   .   .   .   .   .   .   @   @   @   @   @   .   .   .   .   .   .   .   .   .   .   .   .   .   .   .   .   \n",
      "\n",
      ".   .   .   .   .   .   .   @   @   @   @   @   .   .   .   .   .   .   .   .   .   .   .   .   .   .   .   .   \n",
      "\n",
      ".   .   .   .   .   .   .   .   @   @   @   .   .   .   .   .   .   .   .   .   .   .   .   .   .   .   .   .   \n",
      "\n",
      ".   .   .   .   .   .   .   .   .   .   .   .   .   .   .   .   .   .   .   .   .   .   .   .   .   .   .   .   \n",
      "\n",
      ".   .   .   .   .   .   .   .   .   .   .   .   .   .   .   .   .   .   .   .   .   .   .   .   .   .   .   .   \n",
      "\n",
      ".   .   .   .   .   .   .   .   .   .   .   .   .   .   .   .   .   .   .   .   .   .   .   .   .   .   .   .   \n",
      "\n",
      ".   .   .   .   .   .   .   .   .   .   .   .   .   .   .   .   .   .   .   .   .   .   .   .   .   .   .   .   \n",
      "\n"
     ]
    },
    {
     "data": {
      "text/plain": [
       "(42000, 784)"
      ]
     },
     "execution_count": 51,
     "metadata": {},
     "output_type": "execute_result"
    }
   ],
   "source": [
    "X = data[:, 1:]\n",
    "plot_image(X[0])\n",
    "X.shape"
   ]
  },
  {
   "cell_type": "code",
   "execution_count": 52,
   "id": "c0f56430",
   "metadata": {},
   "outputs": [
    {
     "data": {
      "text/plain": [
       "dtype('int32')"
      ]
     },
     "execution_count": 52,
     "metadata": {},
     "output_type": "execute_result"
    }
   ],
   "source": [
    "X.dtype"
   ]
  },
  {
   "cell_type": "code",
   "execution_count": 53,
   "id": "75704d2a",
   "metadata": {},
   "outputs": [
    {
     "data": {
      "text/plain": [
       "(42000, 1)"
      ]
     },
     "execution_count": 53,
     "metadata": {},
     "output_type": "execute_result"
    }
   ],
   "source": [
    "Y = data[:, [0]]\n",
    "Y.shape"
   ]
  },
  {
   "cell_type": "code",
   "execution_count": 54,
   "id": "11f11878",
   "metadata": {},
   "outputs": [],
   "source": [
    "def one_hot(value, N=10):\n",
    "    vec = np.zeros(N)\n",
    "    vec[value] = 1\n",
    "    return vec"
   ]
  },
  {
   "cell_type": "code",
   "execution_count": 55,
   "id": "9a2773f4",
   "metadata": {},
   "outputs": [
    {
     "data": {
      "text/plain": [
       "(42000, 10)"
      ]
     },
     "execution_count": 55,
     "metadata": {},
     "output_type": "execute_result"
    }
   ],
   "source": [
    "Y = np.array([one_hot(c) for c in Y])\n",
    "Y.shape"
   ]
  },
  {
   "cell_type": "markdown",
   "id": "91130b23",
   "metadata": {},
   "source": [
    "### Mnist NN"
   ]
  },
  {
   "cell_type": "code",
   "execution_count": 56,
   "id": "8a5dcbd4",
   "metadata": {},
   "outputs": [],
   "source": [
    "hidden_dim = 256\n",
    "mnist_nn = NeuralNetwork(X.shape[1], hidden_dim, hidden_dim, Y.shape[1], (-0.3,0.3), 0.02, np.float64)"
   ]
  },
  {
   "cell_type": "code",
   "execution_count": 57,
   "id": "4b3974f2",
   "metadata": {},
   "outputs": [],
   "source": [
    "losses = mnist_nn.train(X, Y)"
   ]
  },
  {
   "cell_type": "code",
   "execution_count": 58,
   "id": "75033c14",
   "metadata": {},
   "outputs": [
    {
     "data": {
      "image/png": "[encoded data removed]",
      "text/plain": [
       "<Figure size 640x480 with 1 Axes>"
      ]
     },
     "metadata": {},
     "output_type": "display_data"
    }
   ],
   "source": [
    "summed_losses = [np.sum(l) for l in losses]\n",
    "plt.plot([i for i in range(len(summed_losses))], summed_losses)\n",
    "plt.show()"
   ]
  },
  {
   "cell_type": "code",
   "execution_count": 59,
   "id": "e2fa8896",
   "metadata": {},
   "outputs": [
    {
     "data": {
      "image/png": "[encoded data removed]",
      "text/plain": [
       "<Figure size 640x480 with 1 Axes>"
      ]
     },
     "metadata": {},
     "output_type": "display_data"
    }
   ],
   "source": [
    "def rolling_mean(series, window):\n",
    "    rolled = []\n",
    "    c = 0\n",
    "    mean = 0\n",
    "    for i in series:\n",
    "        if c < window:\n",
    "            mean += i / window\n",
    "            c += 1\n",
    "        else:\n",
    "            c = 0\n",
    "            rolled.append(mean)\n",
    "            mean = 0\n",
    "    return rolled\n",
    "\n",
    "rolled = rolling_mean(summed_losses, 100)\n",
    "plt.plot([i for i in range(len(rolled))], rolled)\n",
    "plt.show()"
   ]
  },
  {
   "cell_type": "code",
   "execution_count": 60,
   "id": "c75520ee",
   "metadata": {},
   "outputs": [
    {
     "data": {
      "text/plain": [
       "0.8668809523809524"
      ]
     },
     "execution_count": 60,
     "metadata": {},
     "output_type": "execute_result"
    }
   ],
   "source": [
    "accuracy = 0\n",
    "for i in range(len(X)):\n",
    "    prediction = np.argmax(mnist_nn.forward(X[i]))\n",
    "    actual = np.where(Y[i] == 1)[0][0]\n",
    "    accuracy += int(actual == prediction)\n",
    "accuracy / len(X)"
   ]
  },
  {
   "cell_type": "markdown",
   "id": "a6381510",
   "metadata": {},
   "source": [
    "### Manual Eval"
   ]
  },
  {
   "cell_type": "code",
   "execution_count": 61,
   "id": "c5276aef",
   "metadata": {},
   "outputs": [
    {
     "name": "stdout",
     "output_type": "stream",
     "text": [
      "Actual: 5, Prediction: 5\n",
      ".   .   .   .   .   .   .   .   .   .   .   .   .   .   .   .   .   .   .   .   .   .   .   .   .   .   .   .   \n",
      "\n",
      ".   .   .   .   .   .   .   .   .   .   .   .   .   .   .   .   .   .   .   .   .   .   .   .   .   .   .   .   \n",
      "\n",
      ".   .   .   .   .   .   .   .   .   .   .   .   .   .   .   .   .   .   .   .   .   .   .   .   .   .   .   .   \n",
      "\n",
      ".   .   .   .   .   .   .   .   .   .   .   .   .   .   .   .   .   .   .   .   .   .   .   .   .   .   .   .   \n",
      "\n",
      ".   .   .   .   .   .   .   .   .   .   .   .   .   .   .   .   .   .   .   .   .   .   .   .   .   .   .   .   \n",
      "\n",
      ".   .   .   .   .   .   .   .   .   .   .   .   .   .   .   .   .   .   .   .   .   .   .   .   .   .   .   .   \n",
      "\n",
      ".   .   .   .   .   .   .   .   .   .   .   .   .   .   .   .   .   .   .   @   @   @   @   @   @   .   .   .   \n",
      "\n",
      ".   .   .   .   .   .   .   .   .   .   .   .   .   @   @   .   @   @   @   @   @   @   @   @   @   .   .   .   \n",
      "\n",
      ".   .   .   .   .   .   .   .   .   .   .   .   .   @   @   @   @   @   @   @   @   @   @   .   .   .   .   .   \n",
      "\n",
      ".   .   .   .   .   .   .   .   .   .   .   @   @   @   @   @   @   @   @   @   .   .   .   .   .   .   .   .   \n",
      "\n",
      ".   .   .   .   .   .   .   .   .   .   .   @   @   @   @   @   @   .   .   .   .   .   .   .   .   .   .   .   \n",
      "\n",
      ".   .   .   .   .   .   .   .   .   .   @   @   @   @   @   .   .   .   .   .   .   .   .   .   .   .   .   .   \n",
      "\n",
      ".   .   .   .   .   .   .   .   .   .   @   @   @   @   @   @   @   .   .   .   .   .   .   .   .   .   .   .   \n",
      "\n",
      ".   .   .   .   .   .   .   .   .   @   @   @   @   @   @   @   @   @   .   .   .   .   .   .   .   .   .   .   \n",
      "\n",
      ".   .   .   .   .   .   .   .   .   @   @   @   @   @   @   @   @   @   .   .   .   .   .   .   .   .   .   .   \n",
      "\n",
      ".   .   .   .   .   .   .   .   .   .   .   .   .   .   .   @   @   @   .   .   .   .   .   .   .   .   .   .   \n",
      "\n",
      ".   .   .   .   .   .   .   .   .   .   .   .   .   .   .   @   @   @   .   .   .   .   .   .   .   .   .   .   \n",
      "\n",
      ".   .   .   .   .   .   .   .   .   .   .   .   .   .   @   @   @   @   .   .   .   .   .   .   .   .   .   .   \n",
      "\n",
      ".   .   .   .   .   .   .   .   .   .   .   .   .   .   @   @   @   @   .   .   .   .   .   .   .   .   .   .   \n",
      "\n",
      ".   .   .   .   .   @   @   .   .   .   .   .   .   @   @   @   @   .   .   .   .   .   .   .   .   .   .   .   \n",
      "\n",
      ".   .   .   .   .   @   @   @   .   .   .   @   @   @   @   @   @   .   .   .   .   .   .   .   .   .   .   .   \n",
      "\n",
      ".   .   .   .   .   @   @   @   @   @   @   @   @   @   @   @   .   .   .   .   .   .   .   .   .   .   .   .   \n",
      "\n",
      ".   .   .   .   .   @   @   @   @   @   @   @   @   @   @   .   .   .   .   .   .   .   .   .   .   .   .   .   \n",
      "\n",
      ".   .   .   .   .   .   @   @   @   @   @   @   @   .   .   .   .   .   .   .   .   .   .   .   .   .   .   .   \n",
      "\n",
      ".   .   .   .   .   .   .   .   .   .   .   .   .   .   .   .   .   .   .   .   .   .   .   .   .   .   .   .   \n",
      "\n",
      ".   .   .   .   .   .   .   .   .   .   .   .   .   .   .   .   .   .   .   .   .   .   .   .   .   .   .   .   \n",
      "\n",
      ".   .   .   .   .   .   .   .   .   .   .   .   .   .   .   .   .   .   .   .   .   .   .   .   .   .   .   .   \n",
      "\n",
      ".   .   .   .   .   .   .   .   .   .   .   .   .   .   .   .   .   .   .   .   .   .   .   .   .   .   .   .   \n",
      "\n"
     ]
    }
   ],
   "source": [
    "i = 6070\n",
    "prediction = np.argmax(mnist_nn.forward(X[i]))\n",
    "actual = np.where(Y[i] == 1)[0][0]\n",
    "print(f\"Actual: {actual}, Prediction: {prediction}\")\n",
    "plot_image(X[i])"
   ]
  }
 ],
 "metadata": {
  "kernelspec": {
   "display_name": "Python 3",
   "language": "python",
   "name": "python3"
  },
  "language_info": {
   "codemirror_mode": {
    "name": "ipython",
    "version": 3
   },
   "file_extension": ".py",
   "mimetype": "text/x-python",
   "name": "python",
   "nbconvert_exporter": "python",
   "pygments_lexer": "ipython3",
   "version": "3.11.3"
  }
 },
 "nbformat": 4,
 "nbformat_minor": 5
}
