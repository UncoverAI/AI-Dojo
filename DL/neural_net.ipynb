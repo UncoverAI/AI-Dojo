{
 "cells": [
  {
   "cell_type": "code",
   "execution_count": 845,
   "id": "f2352f04",
   "metadata": {},
   "outputs": [],
   "source": [
    "import numpy as np\n",
    "import matplotlib.pyplot as plt"
   ]
  },
  {
   "cell_type": "markdown",
   "id": "c23fc7ee",
   "metadata": {},
   "source": [
    "# NN Dev"
   ]
  },
  {
   "cell_type": "markdown",
   "id": "1eca6257",
   "metadata": {},
   "source": [
    "## Functions"
   ]
  },
  {
   "cell_type": "code",
   "execution_count": 846,
   "id": "8d43705f",
   "metadata": {},
   "outputs": [],
   "source": [
    "def sigmoid(x_):\n",
    "    x_ = (x_ > -200) * x_\n",
    "    return 1 / (1 + np.exp(-x_))\n",
    "\n",
    "def d_sigmoid(x_):\n",
    "    return sigmoid(x_)*(1 - sigmoid(x_))\n",
    "\n",
    "def relu(x_):\n",
    "    return x_ * (x_ >= 0)\n",
    "\n",
    "def d_relu(x_):\n",
    "    return 1. * (x_ >= 0)\n",
    "\n",
    "def softmax(x_):\n",
    "    return np.exp(x_) / np.sum(np.exp(x_))\n",
    "\n",
    "def d_softmax(x_):\n",
    "    Ds = np.zeros(shape=(len(x_), len(x_)))\n",
    "    for i in range(len(x_)):\n",
    "        for j in range(len(x_)):\n",
    "            if i == j:\n",
    "                Ds[i][j] = softmax(x_)[i] * (1 - softmax(x_)[j])\n",
    "            else:\n",
    "                Ds[i][j] = -softmax(x_)[i] * softmax(x_)[j]\n",
    "    return Ds\n",
    "\n",
    "def se(y_hat_, y_):\n",
    "    return (y_hat_ - y_)**2\n",
    "\n",
    "def d_se(y_hat_, y_):\n",
    "    return 2 * (y_hat_ - y_)\n",
    "\n",
    "def mse(O, Y):\n",
    "    N = O.shape[0]\n",
    "    mse_ = np.zeros(shape=(1, O.shape[1]), dtype=np.float64)\n",
    "    for i in range(N):\n",
    "        mse_ += (O[i] - Y[i])**2\n",
    "    mse_ = (1 / N) * mse_\n",
    "    return mse_\n",
    "\n",
    "def d_mse(O, Y):\n",
    "    N = O.shape[0]\n",
    "    d_mse_ = np.zeros(shape=(1, O.shape[1]), dtype=np.float64)\n",
    "    for i in range(N):\n",
    "        d_mse_ += (O[i] - Y[i])\n",
    "    d_mse_ = (2 / N) * d_mse_\n",
    "    return d_mse_"
   ]
  },
  {
   "cell_type": "markdown",
   "id": "58e0154b",
   "metadata": {},
   "source": [
    "## Layer Net"
   ]
  },
  {
   "cell_type": "code",
   "execution_count": 1117,
   "id": "f5ceea62",
   "metadata": {},
   "outputs": [],
   "source": [
    "class NN:\n",
    "    def __init__(self, layers, init=(-.5,.5), learning_rate=0.02, dtype = np.float64) -> None:\n",
    "        self.learning_rate = learning_rate\n",
    "        self.dtype = dtype\n",
    "        self.layers = layers\n",
    "        output_size_prev = self.layers[0][\"input_size\"]\n",
    "        for l in self.layers:\n",
    "            input_size, output_size = l[\"input_size\"], l[\"output_size\"] \n",
    "            assert(input_size == output_size_prev)\n",
    "            l[\"W\"] = self.init_weights(init, input_size, output_size)\n",
    "            output_size_prev = output_size\n",
    "\n",
    "    def init_weights(self, init, input_size, output_size):\n",
    "        return np.random.uniform(low=init[0], high=init[1], size=(output_size, input_size)).astype(self.dtype)\n",
    "    \n",
    "    def forward(self, x_):\n",
    "        A_prev = x_\n",
    "        for l in self.layers:\n",
    "            Z_curr = l[\"W\"] @ A_prev\n",
    "            A_curr = l[\"activation\"](Z_curr)\n",
    "            l[\"memory\"] = (Z_curr.copy(), A_prev.copy())\n",
    "            A_prev = A_curr\n",
    "        return A_curr\n",
    "    \n",
    "    def backward(self, y_hat_, y_):\n",
    "        i = -1\n",
    "        z_, a_prev_ = self.layers[i][\"memory\"]\n",
    "        d_f = self.layers[i]['d_activation'](z_)\n",
    "        mem = d_f @ d_se(y_hat_, y_)\n",
    "        self.layers[i]['dW'] = mem @ a_prev_.T \n",
    "        for i in list(range(len(self.layers)-2,-1,-1)):\n",
    "            z_, a_prev_ = self.layers[i][\"memory\"]\n",
    "            d_f = self.layers[i]['d_activation'](z_)\n",
    "            mem = self.layers[i + 1]['W'].T @ mem * d_f\n",
    "            self.layers[i]['dW'] = mem @ a_prev_.T\n",
    "\n",
    "\n",
    "    def train(self, X, Y, epochs=1):\n",
    "        for e in range(epochs):\n",
    "            self.outputs = []\n",
    "            self.losses = []\n",
    "            for i in range(X.shape[0]):\n",
    "                y_hat_ = self.forward(X[i])\n",
    "                if len(self.outputs) == 0:\n",
    "                    self.outputs = y_hat_\n",
    "                else:\n",
    "                    np.append(self.outputs, y_hat_, axis=0)\n",
    "                y_ = Y[i]\n",
    "                self.losses.append(se(y_hat_, y_))\n",
    "                self.backward(y_hat_, y_)\n",
    "                for l in self.layers:\n",
    "                    l['W'] = l['W'] - self.learning_rate * l['dW']\n",
    "        return self.losses"
   ]
  },
  {
   "cell_type": "markdown",
   "id": "cba2e19a",
   "metadata": {},
   "source": [
    "## Layer Net Testing"
   ]
  },
  {
   "cell_type": "markdown",
   "id": "2f380d99",
   "metadata": {},
   "source": [
    "### Init test"
   ]
  },
  {
   "cell_type": "code",
   "execution_count": 848,
   "id": "ae0be16d",
   "metadata": {},
   "outputs": [
    {
     "data": {
      "text/plain": [
       "[{'input_size': 4,\n",
       "  'output_size': 5,\n",
       "  'activation': <function __main__.sigmoid(x_)>,\n",
       "  'd_activation': <function __main__.d_sigmoid(x_)>,\n",
       "  'W': array([[1., 1., 1., 1.],\n",
       "         [1., 1., 1., 1.],\n",
       "         [1., 1., 1., 1.],\n",
       "         [1., 1., 1., 1.],\n",
       "         [1., 1., 1., 1.]])},\n",
       " {'input_size': 5,\n",
       "  'output_size': 5,\n",
       "  'activation': <function __main__.sigmoid(x_)>,\n",
       "  'd_activation': <function __main__.d_sigmoid(x_)>,\n",
       "  'W': array([[1., 1., 1., 1., 1.],\n",
       "         [1., 1., 1., 1., 1.],\n",
       "         [1., 1., 1., 1., 1.],\n",
       "         [1., 1., 1., 1., 1.],\n",
       "         [1., 1., 1., 1., 1.]])},\n",
       " {'input_size': 5,\n",
       "  'output_size': 4,\n",
       "  'activation': <function __main__.sigmoid(x_)>,\n",
       "  'd_activation': <function __main__.d_sigmoid(x_)>,\n",
       "  'W': array([[1., 1., 1., 1., 1.],\n",
       "         [1., 1., 1., 1., 1.],\n",
       "         [1., 1., 1., 1., 1.],\n",
       "         [1., 1., 1., 1., 1.]])},\n",
       " {'input_size': 4,\n",
       "  'output_size': 3,\n",
       "  'activation': <function __main__.softmax(x_)>,\n",
       "  'd_activation': <function __main__.d_softmax(x_)>,\n",
       "  'W': array([[1., 1., 1., 1.],\n",
       "         [1., 1., 1., 1.],\n",
       "         [1., 1., 1., 1.]])}]"
      ]
     },
     "execution_count": 848,
     "metadata": {},
     "output_type": "execute_result"
    }
   ],
   "source": [
    "layers = [{\"input_size\": 4, \"output_size\": 5, \"activation\": sigmoid, \"d_activation\": d_sigmoid},\n",
    "          {\"input_size\": 5, \"output_size\": 5, \"activation\": sigmoid, \"d_activation\": d_sigmoid},\n",
    "          {\"input_size\": 5, \"output_size\": 4, \"activation\": sigmoid, \"d_activation\": d_sigmoid},\n",
    "          {\"input_size\": 4, \"output_size\": 3, \"activation\": softmax, \"d_activation\": d_softmax}]\n",
    "nn = NN(layers)\n",
    "nn.layers"
   ]
  },
  {
   "cell_type": "markdown",
   "id": "c8993b3c",
   "metadata": {},
   "source": [
    "### Backprop"
   ]
  },
  {
   "cell_type": "code",
   "execution_count": 849,
   "id": "11bbd2ca",
   "metadata": {},
   "outputs": [
    {
     "name": "stdout",
     "output_type": "stream",
     "text": [
      "3\n",
      "(3, 4)\n",
      "(3, 4)\n",
      "2\n",
      "(4, 5)\n",
      "(4, 5)\n",
      "1\n",
      "(5, 5)\n",
      "(5, 5)\n",
      "0\n",
      "(5, 4)\n",
      "(5, 4)\n"
     ]
    }
   ],
   "source": [
    "X = np.array([[0, 0, 0, 1], [0, 0, 0, 1]])\n",
    "X = X.reshape(X.shape[0],X.shape[1],1)\n",
    "Y= np.array([[0, 1, 0], [0, 1, 0]])\n",
    "Y = Y.reshape(Y.shape[0],Y.shape[1],1)\n",
    "\n",
    "y_hat_ = nn.forward(X[0])\n",
    "y_ = Y[0]\n",
    "\n",
    "d_Cf = d_se(y_hat_, y_)\n",
    "mem = d_Cf\n",
    "for idx, layer in reversed(list(enumerate(nn.layers))):\n",
    "    print(idx)\n",
    "    z_, a_prev_ = layer[\"memory\"]\n",
    "    d_f = layer['d_activation'](z_)\n",
    "    if layer['d_activation'] == d_softmax:\n",
    "        mem = d_f @ mem\n",
    "    else:\n",
    "        mem = nn.layers[idx + 1]['W'].T @ mem * d_f\n",
    "    layer['dW'] = mem @ a_prev_.T\n",
    "    print(layer[\"dW\"].shape)\n",
    "    print(layer[\"W\"].shape)\n"
   ]
  },
  {
   "cell_type": "code",
   "execution_count": 850,
   "id": "d2e78e81",
   "metadata": {},
   "outputs": [],
   "source": [
    "# (n?,k),(k,m?)->(n?,m?)"
   ]
  },
  {
   "cell_type": "code",
   "execution_count": 851,
   "id": "22ba0cee",
   "metadata": {},
   "outputs": [
    {
     "data": {
      "text/plain": [
       "True"
      ]
     },
     "execution_count": 851,
     "metadata": {},
     "output_type": "execute_result"
    }
   ],
   "source": [
    "nn.layers[-1][\"d_activation\"] == d_softmax"
   ]
  },
  {
   "cell_type": "code",
   "execution_count": 852,
   "id": "f73bb19d",
   "metadata": {},
   "outputs": [
    {
     "data": {
      "text/plain": [
       "3"
      ]
     },
     "execution_count": 852,
     "metadata": {},
     "output_type": "execute_result"
    }
   ],
   "source": [
    "nn.layers[-1][\"W\"].shape[0]"
   ]
  },
  {
   "cell_type": "code",
   "execution_count": 853,
   "id": "48331ada",
   "metadata": {},
   "outputs": [
    {
     "data": {
      "text/plain": [
       "{'input_size': 4,\n",
       " 'output_size': 3,\n",
       " 'activation': <function __main__.softmax(x_)>,\n",
       " 'd_activation': <function __main__.d_softmax(x_)>,\n",
       " 'W': array([[1., 1., 1., 1.],\n",
       "        [1., 1., 1., 1.],\n",
       "        [1., 1., 1., 1.]]),\n",
       " 'memory': (array([[3.96966059],\n",
       "         [3.96966059],\n",
       "         [3.96966059]]),\n",
       "  array([[0.99241515],\n",
       "         [0.99241515],\n",
       "         [0.99241515],\n",
       "         [0.99241515]])),\n",
       " 'dW': array([[ 0.2205367,  0.2205367,  0.2205367,  0.2205367],\n",
       "        [-0.4410734, -0.4410734, -0.4410734, -0.4410734],\n",
       "        [ 0.2205367,  0.2205367,  0.2205367,  0.2205367]])}"
      ]
     },
     "execution_count": 853,
     "metadata": {},
     "output_type": "execute_result"
    }
   ],
   "source": [
    "nn.layers[-1]"
   ]
  },
  {
   "cell_type": "code",
   "execution_count": 854,
   "id": "f9310fd3",
   "metadata": {},
   "outputs": [
    {
     "name": "stdout",
     "output_type": "stream",
     "text": [
      "[[1 2 3]\n",
      " [1 2 3]\n",
      " [2 2 2]]\n",
      "[[1]\n",
      " [2]\n",
      " [3]]\n"
     ]
    }
   ],
   "source": [
    "M = np.array([[1, 2, 3], [1, 2, 3] ,[2, 2, 2]]).reshape(3, 3)\n",
    "print(M)\n",
    "a = np.array([1, 2, 3]).reshape(3, 1)\n",
    "print(a)"
   ]
  },
  {
   "cell_type": "code",
   "execution_count": 855,
   "id": "5c1c7cae",
   "metadata": {},
   "outputs": [
    {
     "data": {
      "text/plain": [
       "array([4, 6, 8])"
      ]
     },
     "execution_count": 855,
     "metadata": {},
     "output_type": "execute_result"
    }
   ],
   "source": [
    "np.sum(M, axis=0)"
   ]
  },
  {
   "cell_type": "code",
   "execution_count": 856,
   "id": "a2f6ffa8",
   "metadata": {},
   "outputs": [
    {
     "data": {
      "text/plain": [
       "array([[14],\n",
       "       [14],\n",
       "       [12]])"
      ]
     },
     "execution_count": 856,
     "metadata": {},
     "output_type": "execute_result"
    }
   ],
   "source": [
    "M @ a"
   ]
  },
  {
   "cell_type": "code",
   "execution_count": 857,
   "id": "7a7de533",
   "metadata": {},
   "outputs": [
    {
     "data": {
      "text/plain": [
       "array([[ 9, 12, 15]])"
      ]
     },
     "execution_count": 857,
     "metadata": {},
     "output_type": "execute_result"
    }
   ],
   "source": [
    "a.T @ M"
   ]
  },
  {
   "cell_type": "code",
   "execution_count": 858,
   "id": "92c50573",
   "metadata": {},
   "outputs": [
    {
     "data": {
      "text/plain": [
       "array([14, 14, 12])"
      ]
     },
     "execution_count": 858,
     "metadata": {},
     "output_type": "execute_result"
    }
   ],
   "source": [
    "np.sum(a.T * M, axis=1)"
   ]
  },
  {
   "cell_type": "code",
   "execution_count": 859,
   "id": "c26232b1",
   "metadata": {},
   "outputs": [
    {
     "data": {
      "text/plain": [
       "array([ 9, 12, 15])"
      ]
     },
     "execution_count": 859,
     "metadata": {},
     "output_type": "execute_result"
    }
   ],
   "source": [
    "np.sum(M * a, axis=0)"
   ]
  },
  {
   "cell_type": "code",
   "execution_count": 860,
   "id": "14ea950d",
   "metadata": {},
   "outputs": [
    {
     "data": {
      "text/plain": [
       "array([[1, 2, 3],\n",
       "       [2, 4, 6],\n",
       "       [6, 6, 6]])"
      ]
     },
     "execution_count": 860,
     "metadata": {},
     "output_type": "execute_result"
    }
   ],
   "source": [
    "M * a"
   ]
  },
  {
   "cell_type": "code",
   "execution_count": 861,
   "id": "a03db620",
   "metadata": {},
   "outputs": [
    {
     "data": {
      "text/plain": [
       "array([[1, 4, 9],\n",
       "       [1, 4, 9],\n",
       "       [2, 4, 6]])"
      ]
     },
     "execution_count": 861,
     "metadata": {},
     "output_type": "execute_result"
    }
   ],
   "source": [
    "a.T * M"
   ]
  },
  {
   "cell_type": "code",
   "execution_count": 862,
   "id": "5001a3cd",
   "metadata": {},
   "outputs": [
    {
     "data": {
      "text/plain": [
       "array([[1, 4, 9],\n",
       "       [1, 4, 9],\n",
       "       [2, 4, 6]])"
      ]
     },
     "execution_count": 862,
     "metadata": {},
     "output_type": "execute_result"
    }
   ],
   "source": [
    "M * a.T"
   ]
  },
  {
   "cell_type": "code",
   "execution_count": 863,
   "id": "386b5139",
   "metadata": {},
   "outputs": [
    {
     "data": {
      "text/plain": [
       "array([[14],\n",
       "       [14],\n",
       "       [12]])"
      ]
     },
     "execution_count": 863,
     "metadata": {},
     "output_type": "execute_result"
    }
   ],
   "source": [
    "np.dot(M, a)"
   ]
  },
  {
   "cell_type": "markdown",
   "id": "94d5f95b",
   "metadata": {},
   "source": [
    "### Training"
   ]
  },
  {
   "cell_type": "code",
   "execution_count": 1100,
   "id": "02d00a56",
   "metadata": {},
   "outputs": [
    {
     "data": {
      "image/png": "[encoded data removed]",
      "text/plain": [
       "<Figure size 640x480 with 1 Axes>"
      ]
     },
     "metadata": {},
     "output_type": "display_data"
    },
    {
     "name": "stdout",
     "output_type": "stream",
     "text": [
      "CPU times: total: 2.72 s\n",
      "Wall time: 2.71 s\n"
     ]
    }
   ],
   "source": [
    "%%time\n",
    "X = np.array([[0, 0, 0, 1] for _ in range(1000)])\n",
    "X = X.reshape(X.shape[0],X.shape[1],1)\n",
    "Y= np.array([[0, 1, 0] for _ in range(1000)])\n",
    "Y = Y.reshape(Y.shape[0],Y.shape[1],1)\n",
    "ls = [{\"input_size\": 4, \"output_size\": 5, \"activation\": sigmoid, \"d_activation\": d_sigmoid},\n",
    "        {\"input_size\": 5, \"output_size\": 5, \"activation\": sigmoid, \"d_activation\": d_sigmoid},\n",
    "          {\"input_size\": 5, \"output_size\": 3, \"activation\": softmax, \"d_activation\": d_softmax}]\n",
    "nn2 = NN(ls)\n",
    "\n",
    "losses = nn2.train(X, Y)\n",
    "plt.plot([i for i in range(1000)], [np.sum(l) for l in losses])\n",
    "plt.show()"
   ]
  },
  {
   "cell_type": "markdown",
   "id": "7de75f1b",
   "metadata": {},
   "source": [
    "## First Net"
   ]
  },
  {
   "cell_type": "code",
   "execution_count": 1081,
   "id": "8c48c69e-ecc6-4c93-a577-1fe2c1df34fb",
   "metadata": {},
   "outputs": [],
   "source": [
    "class NeuralNetwork:\n",
    "    def __init__(self, input_size, l1_size, l2_size, output_size, init=(-.5,.5), learning_rate= 0.02, dtype = np.float64):\n",
    "        self.input_size = input_size\n",
    "        self.l1_size = l1_size\n",
    "        self.l2_size = l2_size\n",
    "        self.output_size = output_size\n",
    "        \n",
    "        self.W1 = np.random.uniform(low=init[0], high=init[1], size=(self.input_size, self.l1_size)).astype(dtype)\n",
    "        # self.W1 = np.ones(shape=(self.input_size, self.l1_size), dtype=dtype)\n",
    "        self.W2 = np.random.uniform(low=init[0], high=init[1], size=(self.l1_size, self.l2_size)).astype(dtype)\n",
    "        # self.W2 = np.ones(shape=(self.l1_size, self.l2_size), dtype=dtype) \n",
    "        self.W3 = np.random.uniform(low=init[0], high=init[1], size=(self.l2_size, self.output_size)).astype(dtype) \n",
    "        # self.W3 np.ones(shape=(self.l2_size, self.output_size), dtype=dtype)\n",
    "\n",
    "        self.alpha = learning_rate\n",
    "        \n",
    "    \n",
    "    def forward(self, x_):\n",
    "        # Layer 1\n",
    "        self.x_ = x_\n",
    "        self.l1_ = self.x_ @ self.W1\n",
    "        self.a1_ = sigmoid(self.l1_)\n",
    "        #self.g1 = d_sigmoid(self.l1_)\n",
    "        # Layer 2\n",
    "        self.l2_ = self.a1_ @ self.W2\n",
    "        self.a2_ = sigmoid(self.l2_)\n",
    "        #self.g2 = d_sigmoid(self.l2_)\n",
    "        # Layer 3\n",
    "        self.o_ = self.a2_ @ self.W3\n",
    "        self.s_ = softmax(self.o_)\n",
    "        #self.g3 = d_softmax(self.o_)\n",
    "\n",
    "        return self.s_\n",
    "    \n",
    "    def backward(self, y_, output_):\n",
    "        tmp = d_se(output_, y_) @ d_softmax(self.o_)\n",
    "        self.dW3 = self.a2_.reshape(self.l2_size, 1) @ tmp\n",
    "        tmp2 = d_sigmoid(self.l2_).reshape(self.l2_size, 1) @ (tmp @ self.W3.T)\n",
    "        self.dW2 = tmp2 * self.a1_.reshape(self.l1_size, 1)\n",
    "        self.dW1 = (self.x_.reshape(self.input_size, 1) @ d_sigmoid(self.l1_).reshape(self.l1_size, 1).transpose()) @ (tmp2 @ self.W2.T)\n",
    "\n",
    "        self.W3 = self.W3 - self.alpha * self.dW3\n",
    "        self.W2 = self.W2 - self.alpha * self.dW2 \n",
    "        self.W1 = self.W1 - self.alpha * self.dW1\n",
    "    \n",
    "    def train(self, X, Y):\n",
    "        self.outputs = []\n",
    "        self.losses = []\n",
    "        for i in range(X.shape[0]):\n",
    "            output = self.forward(X[i]).reshape((1, self.output_size))\n",
    "            if len(self.outputs) == 0:\n",
    "                self.outputs = output\n",
    "            else:\n",
    "                np.append(self.outputs, output, axis=0)\n",
    "            actual = Y[i].reshape((1, self.output_size))\n",
    "            self.losses.append(se(output, actual))\n",
    "            self.backward(actual, output)\n",
    "        return self.losses\n"
   ]
  },
  {
   "cell_type": "markdown",
   "id": "cf8637b4",
   "metadata": {},
   "source": [
    "## First Net Testing"
   ]
  },
  {
   "cell_type": "markdown",
   "id": "877b3cac",
   "metadata": {},
   "source": [
    "### NN init test"
   ]
  },
  {
   "cell_type": "code",
   "execution_count": 866,
   "id": "dee0953d",
   "metadata": {},
   "outputs": [
    {
     "name": "stdout",
     "output_type": "stream",
     "text": [
      "(3, 4)\n",
      "(4, 4)\n",
      "(4, 2)\n"
     ]
    }
   ],
   "source": [
    "nn = NeuralNetwork(3, 4, 4, 2, (0, 1))\n",
    "print(nn.W1.shape)\n",
    "print(nn.W2.shape)\n",
    "print(nn.W3.shape)"
   ]
  },
  {
   "cell_type": "code",
   "execution_count": 867,
   "id": "8dce0d41",
   "metadata": {},
   "outputs": [
    {
     "data": {
      "text/plain": [
       "array([0.59191004, 0.40808996])"
      ]
     },
     "execution_count": 867,
     "metadata": {},
     "output_type": "execute_result"
    }
   ],
   "source": [
    "x_ = np.array([1, 2, 3])\n",
    "nn.forward(x_)"
   ]
  },
  {
   "cell_type": "markdown",
   "id": "72d23e12",
   "metadata": {},
   "source": [
    "### Sigmoid overflow & derivative"
   ]
  },
  {
   "cell_type": "code",
   "execution_count": 868,
   "id": "4ad22b65",
   "metadata": {},
   "outputs": [
    {
     "data": {
      "text/plain": [
       "array([0.5       , 0.73105858, 0.26894142, 1.        , 0.5       ])"
      ]
     },
     "execution_count": 868,
     "metadata": {},
     "output_type": "execute_result"
    }
   ],
   "source": [
    "sig_test = np.array([0, 1, -1, 1000, -1000])\n",
    "sigmoid(sig_test)"
   ]
  },
  {
   "cell_type": "code",
   "execution_count": 869,
   "id": "2684bc4c",
   "metadata": {},
   "outputs": [
    {
     "data": {
      "text/plain": [
       "array([0.25      , 0.19661193, 0.19661193, 0.        , 0.25      ])"
      ]
     },
     "execution_count": 869,
     "metadata": {},
     "output_type": "execute_result"
    }
   ],
   "source": [
    "d_sigmoid(sig_test)"
   ]
  },
  {
   "cell_type": "code",
   "execution_count": 870,
   "id": "e2ec9cae",
   "metadata": {},
   "outputs": [
    {
     "data": {
      "image/png": "[encoded data removed]",
      "text/plain": [
       "<Figure size 640x480 with 1 Axes>"
      ]
     },
     "metadata": {},
     "output_type": "display_data"
    }
   ],
   "source": [
    "plt.plot([i for i in np.arange(-10.1,10.1,0.1)], [sigmoid(i) for i in np.arange(-10.1,10.1,0.1)])\n",
    "plt.plot([i for i in np.arange(-10.1,10.1,0.1)], [d_sigmoid(i) for i in np.arange(-10.1,10.1,0.1)])\n",
    "plt.show()"
   ]
  },
  {
   "cell_type": "code",
   "execution_count": 871,
   "id": "b7641570",
   "metadata": {},
   "outputs": [
    {
     "name": "stdout",
     "output_type": "stream",
     "text": [
      "0.5\n",
      "3.761820781096061e-87\n"
     ]
    }
   ],
   "source": [
    "# check if overflow happens\n",
    "print(sigmoid(-200.0))\n",
    "print(sigmoid(-199.0))"
   ]
  },
  {
   "cell_type": "markdown",
   "id": "208d9d97",
   "metadata": {},
   "source": [
    "### Relu and derivative"
   ]
  },
  {
   "cell_type": "code",
   "execution_count": 872,
   "id": "1a90b2fb",
   "metadata": {},
   "outputs": [
    {
     "data": {
      "text/plain": [
       "array([   0,    1,    0, 1000,    0,    5])"
      ]
     },
     "execution_count": 872,
     "metadata": {},
     "output_type": "execute_result"
    }
   ],
   "source": [
    "rel_test = np.array([0, 1, -1, 1000, -1000, 5])\n",
    "relu(rel_test)"
   ]
  },
  {
   "cell_type": "code",
   "execution_count": 873,
   "id": "bc08f298",
   "metadata": {},
   "outputs": [
    {
     "data": {
      "text/plain": [
       "array([1., 1., 0., 1., 0., 1.])"
      ]
     },
     "execution_count": 873,
     "metadata": {},
     "output_type": "execute_result"
    }
   ],
   "source": [
    "d_relu(rel_test)"
   ]
  },
  {
   "cell_type": "code",
   "execution_count": 874,
   "id": "1970acef",
   "metadata": {},
   "outputs": [
    {
     "data": {
      "image/png": "[encoded data removed]",
      "text/plain": [
       "<Figure size 640x480 with 1 Axes>"
      ]
     },
     "metadata": {},
     "output_type": "display_data"
    }
   ],
   "source": [
    "plt.plot([i for i in np.arange(-10.1,10.1,0.1)], [relu(i) for i in np.arange(-10.1,10.1,0.1)])\n",
    "plt.plot([i for i in np.arange(-10.1,10.1,0.1)], [d_relu(i) for i in np.arange(-10.1,10.1,0.1)])\n",
    "plt.show()"
   ]
  },
  {
   "cell_type": "markdown",
   "id": "4242978f",
   "metadata": {},
   "source": [
    "### Forward pass"
   ]
  },
  {
   "cell_type": "code",
   "execution_count": 875,
   "id": "1d64baec",
   "metadata": {},
   "outputs": [
    {
     "name": "stdout",
     "output_type": "stream",
     "text": [
      "(1, 3)\n",
      "[[1 2 3]]\n"
     ]
    },
    {
     "data": {
      "text/plain": [
       "array([0.59191004, 0.40808996])"
      ]
     },
     "execution_count": 875,
     "metadata": {},
     "output_type": "execute_result"
    }
   ],
   "source": [
    "a = np.array([1, 2, 3]).reshape(1, 3)\n",
    "print(a.shape)\n",
    "print(a)\n",
    "nn.forward(a[0])"
   ]
  },
  {
   "cell_type": "code",
   "execution_count": 876,
   "id": "018d5496",
   "metadata": {},
   "outputs": [
    {
     "name": "stdout",
     "output_type": "stream",
     "text": [
      "(3, 1)\n",
      "[[0]\n",
      " [1]\n",
      " [2]]\n",
      "[[0 1 0]\n",
      " [1 1 2]\n",
      " [2 0 1]\n",
      " [0 1 1]\n",
      " [1 1 1]]\n"
     ]
    }
   ],
   "source": [
    "M = 3\n",
    "K = 5\n",
    "\n",
    "xv_ = np.arange(0, M).reshape((M,1))\n",
    "print(xv_.shape)\n",
    "print(xv_)\n",
    "\n",
    "W = np.random.uniform(low=0, high=3, size=(K, M)).astype(np.int16)\n",
    "print(W)"
   ]
  },
  {
   "cell_type": "code",
   "execution_count": 877,
   "id": "1bd20851",
   "metadata": {},
   "outputs": [
    {
     "name": "stdout",
     "output_type": "stream",
     "text": [
      "(5, 1)\n"
     ]
    },
    {
     "data": {
      "text/plain": [
       "array([[1],\n",
       "       [5],\n",
       "       [2],\n",
       "       [3],\n",
       "       [3]])"
      ]
     },
     "execution_count": 877,
     "metadata": {},
     "output_type": "execute_result"
    }
   ],
   "source": [
    "res = W @ xv_\n",
    "print(res.shape)\n",
    "res"
   ]
  },
  {
   "cell_type": "code",
   "execution_count": 878,
   "id": "badaa00b",
   "metadata": {},
   "outputs": [
    {
     "name": "stdout",
     "output_type": "stream",
     "text": [
      "(1, 5)\n"
     ]
    },
    {
     "data": {
      "text/plain": [
       "array([[1, 5, 2, 3, 3]])"
      ]
     },
     "execution_count": 878,
     "metadata": {},
     "output_type": "execute_result"
    }
   ],
   "source": [
    "res = xv_.transpose() @ W.transpose()\n",
    "print(res.shape)\n",
    "res"
   ]
  },
  {
   "cell_type": "markdown",
   "id": "85c501f7",
   "metadata": {},
   "source": [
    "### Softmax derivative"
   ]
  },
  {
   "cell_type": "code",
   "execution_count": 879,
   "id": "c9637f88",
   "metadata": {},
   "outputs": [
    {
     "name": "stdout",
     "output_type": "stream",
     "text": [
      "[1 2 3]\n",
      "[0.09003057 0.24472847 0.66524096]\n",
      "[[ 0.08192507 -0.02203304 -0.05989202]\n",
      " [-0.02203304  0.18483645 -0.1628034 ]\n",
      " [-0.05989202 -0.1628034   0.22269543]]\n"
     ]
    }
   ],
   "source": [
    "t = np.array([1, 2, 3])\n",
    "print(t)\n",
    "print(softmax(t))\n",
    "print(d_softmax(t))"
   ]
  },
  {
   "cell_type": "markdown",
   "id": "a09f6fd3",
   "metadata": {},
   "source": [
    "### MSE derivative"
   ]
  },
  {
   "cell_type": "code",
   "execution_count": 880,
   "id": "cff90c0b",
   "metadata": {},
   "outputs": [
    {
     "name": "stdout",
     "output_type": "stream",
     "text": [
      "[[0 1 0]\n",
      " [0 0 1]]\n",
      "(2, 3)\n",
      "[[0.09003057 0.24472847 0.66524096]\n",
      " [0.24472847 0.66524096 0.09003057]]\n",
      "(2, 3)\n",
      "[[0.03399876 0.50649031 0.63529494]]\n",
      "[[-0.33475904  0.09003057  0.24472847]]\n"
     ]
    }
   ],
   "source": [
    "T = np.array([[0, 1, 0], [0, 0, 1]])\n",
    "print(T)\n",
    "print(T.shape)\n",
    "A = np.array([softmax([0, 1, 2]), softmax([1, 2, 0])])\n",
    "print(A)\n",
    "print(A.shape)\n",
    "print(mse(T, A))\n",
    "print(d_mse(T, A))"
   ]
  },
  {
   "cell_type": "markdown",
   "id": "2cbe7d08",
   "metadata": {},
   "source": [
    "### Backward pass, loss, weight update"
   ]
  },
  {
   "cell_type": "code",
   "execution_count": 881,
   "id": "2107f59e",
   "metadata": {},
   "outputs": [
    {
     "name": "stdout",
     "output_type": "stream",
     "text": [
      "Output :(1, 3)\n",
      "d MSE :(1, 3)\n",
      "d Softmax :(3, 3)\n",
      "Activation2 :(5, 1)\n",
      "W3 :(5, 3)\n",
      "W3 update :(5, 3)\n",
      "--------------------------------------------------------------------------------------------------\n",
      "d Sigmoid2 :(5, 1)\n",
      "Activation1 :(5, 1)\n",
      "W2 :(5, 5)\n",
      "W2 update:(5, 5)\n",
      "--------------------------------------------------------------------------------------------------\n",
      "d Sigmoid1 :(5, 1)\n",
      "X :(4, 1)\n",
      "W1 :(4, 5)\n",
      "W1 update:(4, 5)\n"
     ]
    }
   ],
   "source": [
    "hidden_dim = 5\n",
    "X = np.array([[0, 0, 0, 1]])\n",
    "Y= np.array([[0, 1, 0]])\n",
    "nn = NeuralNetwork(X.shape[1], hidden_dim, hidden_dim, Y.shape[1], (-0.3,0.3), 0.02, np.float64)\n",
    "\n",
    "output_ = nn.forward(X[0]).reshape((1, nn.output_size))\n",
    "y_ = Y[0].reshape((1, nn.output_size))\n",
    "print(f\"Output :{output_.shape}\")\n",
    "print(f\"d MSE :{d_mse(output_, y_).shape}\")\n",
    "print(f\"d Softmax :{d_softmax(nn.o_).shape}\")\n",
    "print(f\"Activation2 :{nn.a2_.reshape(nn.l2_size, 1).shape}\")\n",
    "print(f\"W3 :{nn.W3.shape}\")\n",
    "tmp = d_mse(output_, y_) @ d_softmax(nn.o_)\n",
    "nn.dW3 = nn.a2_.reshape(nn.l2_size, 1) @ tmp\n",
    "print(f\"W3 update :{nn.dW3.shape}\")\n",
    "print(\"--------------------------------------------------------------------------------------------------\")\n",
    "print(f\"d Sigmoid2 :{d_sigmoid(nn.l2_).reshape(nn.l1_size, 1).shape}\")\n",
    "print(f\"Activation1 :{nn.a1_.reshape(nn.l1_size, 1).shape}\")\n",
    "print(f\"W2 :{nn.W2.shape}\")\n",
    "# TODO fix this update\n",
    "tmp2 = d_sigmoid(nn.l2_).reshape(nn.l2_size, 1) @ (tmp @ nn.W3.transpose())\n",
    "nn.dW2 = tmp2 * nn.a1_.reshape(nn.l2_size, 1)\n",
    "print(f\"W2 update:{nn.dW2.shape}\")\n",
    "print(\"--------------------------------------------------------------------------------------------------\")\n",
    "print(f\"d Sigmoid1 :{d_sigmoid(nn.l1_).reshape(nn.l1_size, 1).shape}\")\n",
    "print(f\"X :{X[0].reshape(nn.input_size, 1).shape}\")\n",
    "print(f\"W1 :{nn.W1.shape}\")\n",
    "# TODO fix this update\n",
    "nn.dW1 = (nn.x_.reshape(nn.input_size, 1) @ d_sigmoid(nn.l1_).reshape(nn.l1_size, 1).transpose()) @ (tmp2 @ nn.W2.transpose())\n",
    "print(f\"W1 update:{nn.dW1.shape}\")"
   ]
  },
  {
   "cell_type": "code",
   "execution_count": 882,
   "id": "8752c66d",
   "metadata": {},
   "outputs": [],
   "source": [
    "hidden_dim = 5\n",
    "X = np.array([[0, 0, 0, 1]])\n",
    "Y= np.array([[0, 1, 0]])\n",
    "nn = NeuralNetwork(X.shape[1], hidden_dim, hidden_dim, Y.shape[1], (-0.3,0.3), 0.02, np.float64)\n",
    "\n",
    "from IPython.display import clear_output\n",
    "\n",
    "def do_iteration(i):\n",
    "    clear_output()\n",
    "    print(f\"Iteration: {i}\")\n",
    "    out = nn.forward(X[0]).reshape((1, nn.output_size))\n",
    "    print(\"Prediction\")\n",
    "    print(f\"Net output: {out}  --> {np.argmax(out)}\")\n",
    "    act =  Y[0].reshape(1,3)\n",
    "    print(\"Expected value\")\n",
    "    print(f\"One Hot: {act}  --> {np.argmax(act)}\")\n",
    "    loss = np.sum(mse(out,act))\n",
    "    print(f\"Loss: {loss}\")\n",
    "    nn.backward(act, out)\n",
    "    return loss"
   ]
  },
  {
   "cell_type": "markdown",
   "id": "2c7ff3e1",
   "metadata": {},
   "source": [
    "#### Manually Click an watch loss go down"
   ]
  },
  {
   "cell_type": "code",
   "execution_count": 883,
   "id": "ccbe5f26",
   "metadata": {},
   "outputs": [
    {
     "name": "stdout",
     "output_type": "stream",
     "text": [
      "Iteration: 0\n",
      "Prediction\n",
      "Net output: [[0.33069779 0.28622124 0.38308096]]  --> 2\n",
      "Expected value\n",
      "One Hot: [[0 1 0]]  --> 1\n",
      "Loss: 0.7655921658610986\n"
     ]
    }
   ],
   "source": [
    "i = 0\n",
    "do_iteration(i)\n",
    "i += 1"
   ]
  },
  {
   "cell_type": "markdown",
   "id": "fbf07f39",
   "metadata": {},
   "source": [
    "#### Plot loss over many iterations"
   ]
  },
  {
   "cell_type": "code",
   "execution_count": 884,
   "id": "c5b2f4d8",
   "metadata": {},
   "outputs": [
    {
     "name": "stdout",
     "output_type": "stream",
     "text": [
      "Iteration: 999\n",
      "Prediction\n",
      "Net output: [[0.03170687 0.93577784 0.03251529]]  --> 1\n",
      "Expected value\n",
      "One Hot: [[0 1 0]]  --> 1\n",
      "Loss: 0.006187055522402923\n"
     ]
    },
    {
     "data": {
      "image/png": "[encoded data removed]",
      "text/plain": [
       "<Figure size 640x480 with 1 Axes>"
      ]
     },
     "metadata": {},
     "output_type": "display_data"
    }
   ],
   "source": [
    "iterations = []\n",
    "losses = []\n",
    "for i in range(1000):\n",
    "    iterations.append(i)\n",
    "    losses.append(do_iteration(i))\n",
    "\n",
    "plt.plot(iterations, losses)\n",
    "plt.show()"
   ]
  },
  {
   "cell_type": "markdown",
   "id": "d011343e",
   "metadata": {},
   "source": [
    "### Training"
   ]
  },
  {
   "cell_type": "code",
   "execution_count": 1099,
   "id": "3e51f87f",
   "metadata": {},
   "outputs": [
    {
     "data": {
      "image/png": "[encoded data removed]",
      "text/plain": [
       "<Figure size 640x480 with 1 Axes>"
      ]
     },
     "metadata": {},
     "output_type": "display_data"
    },
    {
     "name": "stdout",
     "output_type": "stream",
     "text": [
      "CPU times: total: 2.64 s\n",
      "Wall time: 2.64 s\n"
     ]
    }
   ],
   "source": [
    "%%time\n",
    "hidden_dim = 5\n",
    "X = np.array([[0, 0, 0, 1] for _ in range(1000)])\n",
    "Y= np.array([[0, 1, 0] for _ in range(1000)])\n",
    "nn1 = NeuralNetwork(X.shape[1], hidden_dim, hidden_dim, Y.shape[1], (2.,2.))\n",
    "losses = nn1.train(X, Y)\n",
    "plt.plot([i for i in range(1000)], [np.sum(l) for l in losses])\n",
    "plt.show()"
   ]
  },
  {
   "cell_type": "markdown",
   "id": "f67fb5d7",
   "metadata": {},
   "source": [
    "# MNIST"
   ]
  },
  {
   "cell_type": "markdown",
   "id": "4dbdf96f",
   "metadata": {},
   "source": [
    "## Data Prep"
   ]
  },
  {
   "cell_type": "code",
   "execution_count": 1101,
   "id": "81d2bf20",
   "metadata": {},
   "outputs": [
    {
     "data": {
      "text/plain": [
       "(42000, 785)"
      ]
     },
     "execution_count": 1101,
     "metadata": {},
     "output_type": "execute_result"
    }
   ],
   "source": [
    "def plot_image(image):\n",
    "    c = 0\n",
    "    for pixel in image:\n",
    "        if pixel > 0:\n",
    "            print(\"@\", end=\"\")\n",
    "        else:\n",
    "            print(\".\", end=\"\")\n",
    "        print(\"   \", end=\"\")\n",
    "        c += 1\n",
    "        if c == 28:\n",
    "            print(\"\\n\")\n",
    "            c = 0\n",
    "\n",
    "def one_hot(value, N=10):\n",
    "    vec = np.zeros(N)\n",
    "    vec[value] = 1\n",
    "    return vec\n",
    "\n",
    "with open(\"./data/train.csv\") as f:\n",
    "    data = f.readlines()\n",
    "data = data[1:]\n",
    "data = np.array([[int(x) for x in line.split(\",\")] for line in data])\n",
    "data.shape"
   ]
  },
  {
   "cell_type": "code",
   "execution_count": 1102,
   "id": "80dff9b7",
   "metadata": {},
   "outputs": [
    {
     "name": "stdout",
     "output_type": "stream",
     "text": [
      "(42000, 1)\n",
      "[1]\n",
      "(42000, 10)\n",
      "(42000, 784)\n",
      ".   .   .   .   .   .   .   .   .   .   .   .   .   .   .   .   .   .   .   .   .   .   .   .   .   .   .   .   \n",
      "\n",
      ".   .   .   .   .   .   .   .   .   .   .   .   .   .   .   .   .   .   .   .   .   .   .   .   .   .   .   .   \n",
      "\n",
      ".   .   .   .   .   .   .   .   .   .   .   .   .   .   .   .   .   .   .   .   .   .   .   .   .   .   .   .   \n",
      "\n",
      ".   .   .   .   .   .   .   .   .   .   .   .   .   .   .   .   .   .   .   .   .   .   .   .   .   .   .   .   \n",
      "\n",
      ".   .   .   .   .   .   .   .   .   .   .   .   .   .   .   .   .   .   .   .   @   @   @   .   .   .   .   .   \n",
      "\n",
      ".   .   .   .   .   .   .   .   .   .   .   .   .   .   .   .   .   .   .   @   @   @   @   .   .   .   .   .   \n",
      "\n",
      ".   .   .   .   .   .   .   .   .   .   .   .   .   .   .   .   .   .   @   @   @   @   @   .   .   .   .   .   \n",
      "\n",
      ".   .   .   .   .   .   .   .   .   .   .   .   .   .   .   .   .   @   @   @   @   @   .   .   .   .   .   .   \n",
      "\n",
      ".   .   .   .   .   .   .   .   .   .   .   .   .   .   .   .   @   @   @   @   @   .   .   .   .   .   .   .   \n",
      "\n",
      ".   .   .   .   .   .   .   .   .   .   .   .   .   .   .   @   @   @   @   @   .   .   .   .   .   .   .   .   \n",
      "\n",
      ".   .   .   .   .   .   .   .   .   .   .   .   .   .   @   @   @   @   @   @   .   .   .   .   .   .   .   .   \n",
      "\n",
      ".   .   .   .   .   .   .   .   .   .   .   .   .   @   @   @   @   @   .   .   .   .   .   .   .   .   .   .   \n",
      "\n",
      ".   .   .   .   .   .   .   .   .   .   .   .   @   @   @   @   @   @   .   .   .   .   .   .   .   .   .   .   \n",
      "\n",
      ".   .   .   .   .   .   .   .   .   .   .   .   @   @   @   @   @   .   .   .   .   .   .   .   .   .   .   .   \n",
      "\n",
      ".   .   .   .   .   .   .   .   .   .   .   @   @   @   @   @   @   .   .   .   .   .   .   .   .   .   .   .   \n",
      "\n",
      ".   .   .   .   .   .   .   .   .   .   .   @   @   @   @   @   .   .   .   .   .   .   .   .   .   .   .   .   \n",
      "\n",
      ".   .   .   .   .   .   .   .   .   .   @   @   @   @   @   .   .   .   .   .   .   .   .   .   .   .   .   .   \n",
      "\n",
      ".   .   .   .   .   .   .   .   .   @   @   @   @   @   .   .   .   .   .   .   .   .   .   .   .   .   .   .   \n",
      "\n",
      ".   .   .   .   .   .   .   .   .   @   @   @   @   .   .   .   .   .   .   .   .   .   .   .   .   .   .   .   \n",
      "\n",
      ".   .   .   .   .   .   .   .   @   @   @   @   @   .   .   .   .   .   .   .   .   .   .   .   .   .   .   .   \n",
      "\n",
      ".   .   .   .   .   .   .   @   @   @   @   @   .   .   .   .   .   .   .   .   .   .   .   .   .   .   .   .   \n",
      "\n",
      ".   .   .   .   .   .   .   @   @   @   @   @   .   .   .   .   .   .   .   .   .   .   .   .   .   .   .   .   \n",
      "\n",
      ".   .   .   .   .   .   .   @   @   @   @   @   .   .   .   .   .   .   .   .   .   .   .   .   .   .   .   .   \n",
      "\n",
      ".   .   .   .   .   .   .   .   @   @   @   .   .   .   .   .   .   .   .   .   .   .   .   .   .   .   .   .   \n",
      "\n",
      ".   .   .   .   .   .   .   .   .   .   .   .   .   .   .   .   .   .   .   .   .   .   .   .   .   .   .   .   \n",
      "\n",
      ".   .   .   .   .   .   .   .   .   .   .   .   .   .   .   .   .   .   .   .   .   .   .   .   .   .   .   .   \n",
      "\n",
      ".   .   .   .   .   .   .   .   .   .   .   .   .   .   .   .   .   .   .   .   .   .   .   .   .   .   .   .   \n",
      "\n",
      ".   .   .   .   .   .   .   .   .   .   .   .   .   .   .   .   .   .   .   .   .   .   .   .   .   .   .   .   \n",
      "\n"
     ]
    }
   ],
   "source": [
    "Y = data[:, [0]]\n",
    "print(Y.shape)\n",
    "print(Y[0])\n",
    "Y = np.array([one_hot(c) for c in Y])\n",
    "print(Y.shape)\n",
    "\n",
    "X = data[:, 1:]\n",
    "print(X.shape)\n",
    "plot_image(X[0])"
   ]
  },
  {
   "cell_type": "markdown",
   "id": "df8d4c13",
   "metadata": {},
   "source": [
    "## Helpers"
   ]
  },
  {
   "cell_type": "code",
   "execution_count": 899,
   "id": "e6dd1c01",
   "metadata": {},
   "outputs": [],
   "source": [
    "def rolling_mean(series, window):\n",
    "    rolled = []\n",
    "    c = 0\n",
    "    mean = 0\n",
    "    for i in series:\n",
    "        if c < window:\n",
    "            mean += i / window\n",
    "            c += 1\n",
    "        else:\n",
    "            c = 0\n",
    "            rolled.append(mean)\n",
    "            mean = 0\n",
    "    return rolled"
   ]
  },
  {
   "cell_type": "code",
   "execution_count": 900,
   "id": "ef262368",
   "metadata": {},
   "outputs": [],
   "source": [
    "params = {\"init\": (-.5, .5), \"learning_rate\": 0.02}"
   ]
  },
  {
   "cell_type": "markdown",
   "id": "91130b23",
   "metadata": {},
   "source": [
    "## Old NN"
   ]
  },
  {
   "cell_type": "code",
   "execution_count": 1111,
   "id": "8a5dcbd4",
   "metadata": {},
   "outputs": [],
   "source": [
    "hidden_dim = 256\n",
    "mnist_nn1 = NeuralNetwork(X.shape[1], hidden_dim, hidden_dim, Y.shape[1], **params)"
   ]
  },
  {
   "cell_type": "code",
   "execution_count": 1112,
   "id": "4b3974f2",
   "metadata": {},
   "outputs": [],
   "source": [
    "losses = mnist_nn1.train(X, Y)"
   ]
  },
  {
   "cell_type": "code",
   "execution_count": 1113,
   "id": "75033c14",
   "metadata": {},
   "outputs": [
    {
     "data": {
      "image/png": "[encoded data removed]",
      "text/plain": [
       "<Figure size 640x480 with 1 Axes>"
      ]
     },
     "metadata": {},
     "output_type": "display_data"
    }
   ],
   "source": [
    "rolled = rolling_mean([np.sum(l) for l in losses], 100)\n",
    "plt.plot([i for i in range(len(rolled))], rolled)\n",
    "plt.show()"
   ]
  },
  {
   "cell_type": "code",
   "execution_count": 1114,
   "id": "c75520ee",
   "metadata": {},
   "outputs": [
    {
     "data": {
      "text/plain": [
       "0.8481190476190477"
      ]
     },
     "execution_count": 1114,
     "metadata": {},
     "output_type": "execute_result"
    }
   ],
   "source": [
    "accuracy = 0\n",
    "for i in range(len(X)):\n",
    "    prediction = np.argmax(mnist_nn1.forward(X[i]))\n",
    "    actual = np.where(Y[i] == 1)[0][0]\n",
    "    accuracy += int(actual == prediction)\n",
    "accuracy / len(X)"
   ]
  },
  {
   "cell_type": "markdown",
   "id": "1290a2d9",
   "metadata": {},
   "source": [
    "## New NN"
   ]
  },
  {
   "cell_type": "code",
   "execution_count": 1118,
   "id": "88f85df5",
   "metadata": {},
   "outputs": [],
   "source": [
    "layers = [{\"input_size\": X.shape[1], \"output_size\": 256, \"activation\": sigmoid, \"d_activation\": d_sigmoid},\n",
    "          {\"input_size\": 256, \"output_size\": 256, \"activation\": sigmoid, \"d_activation\": d_sigmoid},\n",
    "          {\"input_size\": 256, \"output_size\": Y.shape[1], \"activation\": softmax, \"d_activation\": d_softmax}]\n",
    "mnist_nn2 = NN(layers, **params)"
   ]
  },
  {
   "cell_type": "code",
   "execution_count": 1119,
   "id": "8b8bf067",
   "metadata": {},
   "outputs": [],
   "source": [
    "new_losses = mnist_nn2.train(X.reshape(X.shape[0],X.shape[1],1), Y.reshape(Y.shape[0],Y.shape[1],1), epochs=2)"
   ]
  },
  {
   "cell_type": "code",
   "execution_count": 1120,
   "id": "cb8ca661",
   "metadata": {},
   "outputs": [
    {
     "data": {
      "image/png": "[encoded data removed]",
      "text/plain": [
       "<Figure size 640x480 with 1 Axes>"
      ]
     },
     "metadata": {},
     "output_type": "display_data"
    }
   ],
   "source": [
    "rolled = rolling_mean([np.sum(l) for l in new_losses], 100)\n",
    "plt.plot([i for i in range(len(rolled))], rolled)\n",
    "plt.show()"
   ]
  },
  {
   "cell_type": "code",
   "execution_count": 1121,
   "id": "0a16296a",
   "metadata": {},
   "outputs": [
    {
     "data": {
      "text/plain": [
       "0.804404761904762"
      ]
     },
     "execution_count": 1121,
     "metadata": {},
     "output_type": "execute_result"
    }
   ],
   "source": [
    "accuracy = 0\n",
    "for i in range(len(X)):\n",
    "    prediction = np.argmax(mnist_nn2.forward(X[i]))\n",
    "    actual = np.where(Y[i] == 1)[0][0]\n",
    "    accuracy += int(actual == prediction)\n",
    "accuracy / len(X)"
   ]
  }
 ],
 "metadata": {
  "kernelspec": {
   "display_name": "Python 3",
   "language": "python",
   "name": "python3"
  },
  "language_info": {
   "codemirror_mode": {
    "name": "ipython",
    "version": 3
   },
   "file_extension": ".py",
   "mimetype": "text/x-python",
   "name": "python",
   "nbconvert_exporter": "python",
   "pygments_lexer": "ipython3",
   "version": "3.11.3"
  }
 },
 "nbformat": 4,
 "nbformat_minor": 5
}
