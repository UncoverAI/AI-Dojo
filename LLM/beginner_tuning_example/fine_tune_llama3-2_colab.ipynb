{
 "cells": [
  {
   "cell_type": "markdown",
   "metadata": {},
   "source": [
    "# Setup"
   ]
  },
  {
   "cell_type": "markdown",
   "metadata": {},
   "source": [
    "## Installs & Imports"
   ]
  },
  {
   "cell_type": "code",
   "execution_count": null,
   "metadata": {},
   "outputs": [],
   "source": [
    "%pip install wandb -qU\n",
    "%pip install huggingface-hub\n",
    "%pip install trl"
   ]
  },
  {
   "cell_type": "code",
   "execution_count": null,
   "metadata": {},
   "outputs": [],
   "source": [
    "import os\n",
    "import huggingface_hub\n",
    "import wandb\n",
    "import torch\n",
    "import trl"
   ]
  },
  {
   "cell_type": "markdown",
   "metadata": {},
   "source": [
    "## Verifying the environment"
   ]
  },
  {
   "cell_type": "code",
   "execution_count": null,
   "metadata": {},
   "outputs": [],
   "source": [
    "# Check wandb token\n",
    "os.environ[\"WANDB_API_KEY\"]\n",
    "\n",
    "# Check hf env\n",
    "os.environ[\"HF_TOKEN\"]\n",
    "os.environ[\"HF_HOME\"]"
   ]
  },
  {
   "cell_type": "code",
   "execution_count": null,
   "metadata": {},
   "outputs": [],
   "source": [
    "wandb.login(key=os.environ[\"WANDB_API_KEY\"])\n",
    "huggingface_hub.login(os.environ[\"HF_TOKEN\"])\n",
    "wandb.init(project=\"applied-ai-lecture\",)"
   ]
  },
  {
   "cell_type": "markdown",
   "metadata": {},
   "source": [
    "# Pipeline"
   ]
  },
  {
   "cell_type": "markdown",
   "metadata": {},
   "source": [
    "## Load Dataset"
   ]
  },
  {
   "cell_type": "code",
   "execution_count": null,
   "metadata": {},
   "outputs": [],
   "source": [
    "from datasets import Dataset\n",
    "dataset = Dataset.from_json(\"./chris_train.json\")\n",
    "print(dataset[0])\n",
    "def add_conversation(sample):\n",
    "    sample[\"conversation\"] = [{\"role\": \"user\", \"content\": sample[\"instruction\"]}, {\"role\": \"assistant\", \"content\": sample[\"output\"]}]\n",
    "    return sample\n",
    "dataset = dataset.map(add_conversation, num_proc=os.cpu_count())\n",
    "dataset[0]"
   ]
  },
  {
   "cell_type": "markdown",
   "metadata": {},
   "source": [
    "## Load Model"
   ]
  },
  {
   "cell_type": "code",
   "execution_count": null,
   "metadata": {},
   "outputs": [],
   "source": [
    "from transformers import AutoModelForCausalLM, AutoTokenizer\n",
    "MODEL_ID = \"meta-llama/Llama-3.2-1B-Instruct\"\n",
    "\n",
    "tokenizer = AutoTokenizer.from_pretrained(MODEL_ID, trust_remote_code=True)\n",
    "model = AutoModelForCausalLM.from_pretrained(MODEL_ID, device_map=\"auto\", trust_remote_code=True)\n",
    "model"
   ]
  },
  {
   "cell_type": "markdown",
   "metadata": {},
   "source": [
    "### Test Tokenizer"
   ]
  },
  {
   "cell_type": "code",
   "execution_count": null,
   "metadata": {},
   "outputs": [],
   "source": [
    "print(tokenizer.apply_chat_template(conversation=dataset[0][\"conversation\"], tokenize=False))\n",
    "print(tokenizer.apply_chat_template(conversation=dataset[0][\"conversation\"]))"
   ]
  },
  {
   "cell_type": "markdown",
   "metadata": {},
   "source": [
    "### Test Model"
   ]
  },
  {
   "cell_type": "code",
   "execution_count": null,
   "metadata": {},
   "outputs": [],
   "source": [
    "# cut off last message since that is the expected model response\n",
    "conversation = dataset[0][\"conversation\"][:-1]\n",
    "response = model.generate(tokenizer.apply_chat_template(conversation=conversation, add_generation_prompt=True, return_tensors=\"pt\").to(model.device), max_length=100)\n",
    "print(tokenizer.decode(response[0]))"
   ]
  },
  {
   "cell_type": "markdown",
   "metadata": {},
   "source": [
    "## Prepare tokenizer & dataset"
   ]
  },
  {
   "cell_type": "code",
   "execution_count": null,
   "metadata": {},
   "outputs": [],
   "source": [
    "def prepare_sample(sample):\n",
    "    sample[\"len\"] = len(tokenizer.apply_chat_template(conversation=sample[\"conversation\"]))\n",
    "    sample[\"text\"] = tokenizer.apply_chat_template(conversation=sample[\"conversation\"], tokenize=False)\n",
    "    return sample\n",
    "\n",
    "dataset = dataset.map(prepare_sample, num_proc=os.cpu_count())"
   ]
  },
  {
   "cell_type": "code",
   "execution_count": null,
   "metadata": {},
   "outputs": [],
   "source": [
    "print(tokenizer.model_max_length)\n",
    "print(max(dataset[\"len\"]))\n",
    "tokenizer.model_max_length = max(dataset[\"len\"])"
   ]
  },
  {
   "cell_type": "markdown",
   "metadata": {},
   "source": [
    "# Define Training"
   ]
  },
  {
   "cell_type": "code",
   "execution_count": null,
   "metadata": {},
   "outputs": [],
   "source": [
    "from transformers import TrainingArguments\n",
    "\n",
    "args = TrainingArguments(\n",
    "    # other args and kwargs here\n",
    "    output_dir=\"./tuned_model\",\n",
    "    num_train_epochs=1,\n",
    "    per_device_train_batch_size=1,\n",
    "    report_to=\"wandb\",  # enable logging to W&B\n",
    "    run_name=\"lecture-test-run\",  # name of the W&B run (optional)\n",
    "    logging_steps=1,  # how often to log to W&B\n",
    ")"
   ]
  },
  {
   "cell_type": "code",
   "execution_count": null,
   "metadata": {},
   "outputs": [],
   "source": [
    "from trl import SFTTrainer\n",
    "\n",
    "# Setting sft parameters\n",
    "trainer = SFTTrainer(\n",
    "    model=model,\n",
    "    train_dataset=dataset,\n",
    "    args=args\n",
    ")"
   ]
  },
  {
   "cell_type": "markdown",
   "metadata": {},
   "source": [
    "# Run Training"
   ]
  },
  {
   "cell_type": "code",
   "execution_count": null,
   "metadata": {},
   "outputs": [],
   "source": [
    "trainer.train()"
   ]
  },
  {
   "cell_type": "markdown",
   "metadata": {},
   "source": [
    "## Check Tuned Model"
   ]
  },
  {
   "cell_type": "code",
   "execution_count": null,
   "metadata": {},
   "outputs": [],
   "source": [
    "model.eval()\n",
    "# cut off last message since that is the expected model response\n",
    "conversation = dataset[5][\"conversation\"][:-1]\n",
    "response = model.generate(tokenizer.apply_chat_template(conversation=conversation, add_generation_prompt=True, return_tensors=\"pt\").to(model.device), max_length=100)\n",
    "print(tokenizer.decode(response[0]))"
   ]
  }
 ],
 "metadata": {
  "kernelspec": {
   "display_name": "uncoverai",
   "language": "python",
   "name": "python3"
  },
  "language_info": {
   "codemirror_mode": {
    "name": "ipython",
    "version": 3
   },
   "file_extension": ".py",
   "mimetype": "text/x-python",
   "name": "python",
   "nbconvert_exporter": "python",
   "pygments_lexer": "ipython3",
   "version": "3.12.7"
  }
 },
 "nbformat": 4,
 "nbformat_minor": 2
}
